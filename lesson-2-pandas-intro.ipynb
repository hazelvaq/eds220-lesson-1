{
 "cells": [
  {
   "cell_type": "markdown",
   "id": "fc60d8aa-fe5a-4a1a-882a-270c6bd14d11",
   "metadata": {},
   "source": [
    "# Objective\n",
    "\n",
    "Review core `pandas` objectsL `pandas.Series` and `pandas.DataFrame`\n",
    "\n",
    "# `pandas`\n",
    "- Python package to wrangle and anayze tabular data \n",
    "- built on top of Numpy\n",
    "- core tool for data analysis in Python"
   ]
  },
  {
   "cell_type": "code",
   "execution_count": 2,
   "id": "83184160-5fea-40b2-be38-e40a1cc3130d",
   "metadata": {
    "tags": []
   },
   "outputs": [],
   "source": [
    "import pandas as pd\n",
    "\n",
    "import numpy as np"
   ]
  },
  {
   "cell_type": "markdown",
   "id": "78217297-e0e6-4ab8-860e-176b55260ebd",
   "metadata": {},
   "source": [
    "# Series\n",
    "\n",
    "A `pandas.Seroes`: \n",
    "\n",
    "- is one of the core data structures in `pandas`\n",
    "- a 1-dimensional array of *indexed* data\n",
    "- will be the columns of the `pandas.DataFrame`\n",
    "\n",
    "# Creating a pandas Series\n",
    "\n",
    "Several ways of creating a pandas Series.\n",
    "For now, we will create a series using: \n",
    "```\n",
    "s = pd.Series(data,index = index)\n",
    "```\n",
    "- `data` = numpy array (or a list ofobjects that can be converted to Numpy types)\n",
    "- `index` = a list of indices of the same length as data \n"
   ]
  },
  {
   "cell_type": "code",
   "execution_count": 6,
   "id": "5e00ef61-a130-4db5-ac24-b10b562f5464",
   "metadata": {
    "tags": []
   },
   "outputs": [
    {
     "data": {
      "text/plain": [
       "array([0, 1, 2])"
      ]
     },
     "execution_count": 6,
     "metadata": {},
     "output_type": "execute_result"
    }
   ],
   "source": [
    "# Ex: a pandas series from a numpy array\n",
    "# np.arrange() function constructs an array of consecitive integers\n",
    "np.arange(3)"
   ]
  },
  {
   "cell_type": "code",
   "execution_count": 7,
   "id": "0bc2affa-40b2-4626-b248-13ff5d930627",
   "metadata": {
    "tags": []
   },
   "outputs": [
    {
     "data": {
      "text/plain": [
       "a    0\n",
       "b    1\n",
       "c    2\n",
       "dtype: int64"
      ]
     },
     "execution_count": 7,
     "metadata": {},
     "output_type": "execute_result"
    }
   ],
   "source": [
    "# We can use this to create a pandas Series\n",
    "pd.Series(np.arange(3), index = ['a','b','c'])"
   ]
  },
  {
   "cell_type": "markdown",
   "id": "23d4632f-2abc-4864-98bc-f5107f74f1f1",
   "metadata": {},
   "source": [
    "What kind of parameter is `index`?\n",
    "\n",
    "A: an optional parameter, there is a default value to it.\n",
    "If we don't specify `index`, the default is to start the index with 0.\n",
    "Example:\n"
   ]
  },
  {
   "cell_type": "code",
   "execution_count": 8,
   "id": "fbb6e93e-cf3b-4f93-b931-10863c45c9ea",
   "metadata": {
    "tags": []
   },
   "outputs": [
    {
     "data": {
      "text/plain": [
       "0    EDS220\n",
       "1    EDS222\n",
       "2    EDS223\n",
       "3    EDS242\n",
       "dtype: object"
      ]
     },
     "execution_count": 8,
     "metadata": {},
     "output_type": "execute_result"
    }
   ],
   "source": [
    "# create a series from a list of strings with default index\n",
    "pd.Series(['EDS220','EDS222','EDS223','EDS242'])"
   ]
  },
  {
   "cell_type": "markdown",
   "id": "d55687f3-7065-4615-842b-c984030a9240",
   "metadata": {},
   "source": [
    "# Operations of Series\n",
    "\n",
    "Arithmetic operators work on series on also most Numpy functions.\n",
    "\n",
    "Example:"
   ]
  },
  {
   "cell_type": "code",
   "execution_count": 12,
   "id": "749d62ea-d070-43c0-9ba7-0680164c8578",
   "metadata": {
    "tags": []
   },
   "outputs": [
    {
     "name": "stdout",
     "output_type": "stream",
     "text": [
      "Andrea    98\n",
      "FA        73\n",
      "FT        65\n",
      "dtype: int64 \n",
      "\n",
      "Andrea    9.8\n",
      "FA        7.3\n",
      "FT        6.5\n",
      "dtype: float64\n"
     ]
    }
   ],
   "source": [
    "# define a series\n",
    "s = pd.Series([98,73,65], index = ['Andrea','FA','FT'])\n",
    "print(s,'\\n')\n",
    "#'\\n' is used to add a line the next code will start with a gap btw them and won't look stuffy\n",
    "\n",
    "# divide each element in the series by 10:\n",
    "print(s/10)"
   ]
  },
  {
   "cell_type": "markdown",
   "id": "ab75a64f-ef97-44da-a5ad-eed124eb0052",
   "metadata": {},
   "source": [
    "Example: create a new series with `True/False` values indicating whether \n",
    "the elements in the series satisfy a condition or not\n"
   ]
  },
  {
   "cell_type": "code",
   "execution_count": 13,
   "id": "54068231-e503-4ca6-8849-4cf4c7f588b6",
   "metadata": {
    "tags": []
   },
   "outputs": [
    {
     "data": {
      "text/plain": [
       "Andrea     True\n",
       "FA         True\n",
       "FT        False\n",
       "dtype: bool"
      ]
     },
     "execution_count": 13,
     "metadata": {},
     "output_type": "execute_result"
    }
   ],
   "source": [
    "s > 70"
   ]
  },
  {
   "cell_type": "markdown",
   "id": "9eabb2cf-7a98-4dde-9802-28b1ef3fbecd",
   "metadata": {},
   "source": [
    "This is simple -- but important!! Using conditions on Series \n",
    "is key to select data from dataframes."
   ]
  },
  {
   "cell_type": "markdown",
   "id": "c950c3f6-d48b-4dd5-ab80-928fbc3fb600",
   "metadata": {},
   "source": [
    "## Attributes & Methods\n",
    "Two examples about identifying missing values.\n",
    "\n",
    "- missing values in `pandas` are represented by `np.Nan` = not a number\n",
    "- `NaN` is a type of float in numpy"
   ]
  },
  {
   "cell_type": "code",
   "execution_count": 16,
   "id": "0d405cde-d7fd-4025-8ab6-cf43a1c376c4",
   "metadata": {
    "tags": []
   },
   "outputs": [
    {
     "data": {
      "text/plain": [
       "nan"
      ]
     },
     "execution_count": 16,
     "metadata": {},
     "output_type": "execute_result"
    }
   ],
   "source": [
    "np.NaN"
   ]
  },
  {
   "cell_type": "code",
   "execution_count": 17,
   "id": "df1584cc-4b63-492a-b2bb-ab352e8bfa2d",
   "metadata": {
    "tags": []
   },
   "outputs": [
    {
     "data": {
      "text/plain": [
       "float"
      ]
     },
     "execution_count": 17,
     "metadata": {},
     "output_type": "execute_result"
    }
   ],
   "source": [
    "type(np.NaN)"
   ]
  },
  {
   "cell_type": "code",
   "execution_count": 19,
   "id": "ac8d62eb-0bae-4497-896b-972831fc3a71",
   "metadata": {
    "tags": []
   },
   "outputs": [
    {
     "data": {
      "text/plain": [
       "0    1.0\n",
       "1    2.0\n",
       "2    NaN\n",
       "3    4.0\n",
       "4    NaN\n",
       "dtype: float64"
      ]
     },
     "execution_count": 19,
     "metadata": {},
     "output_type": "execute_result"
    }
   ],
   "source": [
    "#series with NAs in it:\n",
    "s = pd.Series([1,2, np.NaN, 4, np.NaN])\n",
    "s"
   ]
  },
  {
   "cell_type": "markdown",
   "id": "c54e10e6-f44b-4d96-bbf4-61c589a47e80",
   "metadata": {},
   "source": [
    "hasnans = attribute of pandas series, returns `True if there any NAs:"
   ]
  },
  {
   "cell_type": "code",
   "execution_count": 20,
   "id": "aa3703cd-5984-4092-932e-a49b2fb0e2fa",
   "metadata": {
    "tags": []
   },
   "outputs": [
    {
     "data": {
      "text/plain": [
       "True"
      ]
     },
     "execution_count": 20,
     "metadata": {},
     "output_type": "execute_result"
    }
   ],
   "source": [
    "# check is series has NAs\n",
    "s.hasnans"
   ]
  },
  {
   "cell_type": "markdown",
   "id": "d797ef11-84a7-4996-87ad-fd01dd798b0f",
   "metadata": {},
   "source": [
    "` isna()` = a method of series, returns a series indicating \n",
    "which elements are NAs:"
   ]
  },
  {
   "cell_type": "code",
   "execution_count": 21,
   "id": "484e4f31-bc84-413f-a19f-32e80d3b5b48",
   "metadata": {
    "tags": []
   },
   "outputs": [
    {
     "data": {
      "text/plain": [
       "0    False\n",
       "1    False\n",
       "2     True\n",
       "3    False\n",
       "4     True\n",
       "dtype: bool"
      ]
     },
     "execution_count": 21,
     "metadata": {},
     "output_type": "execute_result"
    }
   ],
   "source": [
    "s.isna()"
   ]
  },
  {
   "cell_type": "markdown",
   "id": "63429036-49a7-43ed-982b-7b62cf53464c",
   "metadata": {},
   "source": [
    "`bool`: `True`or `False`"
   ]
  },
  {
   "cell_type": "markdown",
   "id": "8524e959-6ebd-4245-a07d-e05df8405c07",
   "metadata": {},
   "source": [
    "# Dataframes\n",
    "\n",
    "`pandas.DataFrame`:\n",
    "\n",
    "- most used object in `pandas`\n",
    "- represents tabular data (think of spreadhseet)\n",
    "- each column is a `pandas.Series`\n",
    "\n",
    "# Creating a `pandas.DataFrame`\n",
    "\n",
    "*Many ways of creating a dataFrame. Let's see one.\n",
    "Dictionaries: They are sets of key-value pairs:\n",
    "```\n",
    "{ key1 : value1,\n",
    "  key2 : value2,\n",
    "  key3 : value3\n",
    "}\n",
    "```\n",
    "\n",
    "Think of a `pandas.DataFrame` as a dictionary where the \n",
    "keys  = column names\n",
    "values = column values\n",
    "\n",
    "We can create a dataframe like this"
   ]
  },
  {
   "cell_type": "code",
   "execution_count": 25,
   "id": "3bd202c9-a5a4-4f43-b317-e3859f8239ff",
   "metadata": {
    "tags": []
   },
   "outputs": [
    {
     "data": {
      "text/plain": [
       "{'col_name_1': array([0, 1, 2]), 'col_name_2': [3.1, 3.2, 3.3]}"
      ]
     },
     "execution_count": 25,
     "metadata": {},
     "output_type": "execute_result"
    }
   ],
   "source": [
    "# initialize dictionary with columns' data\n",
    "d = {'col_name_1' : np.arange(3),\n",
    "     'col_name_2' : [3.1, 3.2, 3.3]\n",
    "    }\n",
    "d"
   ]
  },
  {
   "cell_type": "code",
   "execution_count": 26,
   "id": "c76ae510-671d-4668-ad9f-99772af9eb38",
   "metadata": {
    "tags": []
   },
   "outputs": [
    {
     "data": {
      "text/html": [
       "<div>\n",
       "<style scoped>\n",
       "    .dataframe tbody tr th:only-of-type {\n",
       "        vertical-align: middle;\n",
       "    }\n",
       "\n",
       "    .dataframe tbody tr th {\n",
       "        vertical-align: top;\n",
       "    }\n",
       "\n",
       "    .dataframe thead th {\n",
       "        text-align: right;\n",
       "    }\n",
       "</style>\n",
       "<table border=\"1\" class=\"dataframe\">\n",
       "  <thead>\n",
       "    <tr style=\"text-align: right;\">\n",
       "      <th></th>\n",
       "      <th>col_name_1</th>\n",
       "      <th>col_name_2</th>\n",
       "    </tr>\n",
       "  </thead>\n",
       "  <tbody>\n",
       "    <tr>\n",
       "      <th>0</th>\n",
       "      <td>0</td>\n",
       "      <td>3.1</td>\n",
       "    </tr>\n",
       "    <tr>\n",
       "      <th>1</th>\n",
       "      <td>1</td>\n",
       "      <td>3.2</td>\n",
       "    </tr>\n",
       "    <tr>\n",
       "      <th>2</th>\n",
       "      <td>2</td>\n",
       "      <td>3.3</td>\n",
       "    </tr>\n",
       "  </tbody>\n",
       "</table>\n",
       "</div>"
      ],
      "text/plain": [
       "   col_name_1  col_name_2\n",
       "0           0         3.1\n",
       "1           1         3.2\n",
       "2           2         3.3"
      ]
     },
     "execution_count": 26,
     "metadata": {},
     "output_type": "execute_result"
    }
   ],
   "source": [
    "df = pd.DataFrame(d)\n",
    "df"
   ]
  },
  {
   "cell_type": "markdown",
   "id": "934885db-5d7e-4679-b326-69f36d11970a",
   "metadata": {},
   "source": [
    "# In-place operations\n",
    "Lets rename the data frame's columns\n",
    "We can use the dataFrame method called `rename`\n",
    "`rename` taked in as an input a dictionary:\n",
    "\n",
    "```\n",
    "{'col_1_old_name' : 'col_1_new_name',\n",
    " 'col_2_old_name' : 'col_2_new_name'\n",
    "    }\n",
    "\n"
   ]
  },
  {
   "cell_type": "code",
   "execution_count": 34,
   "id": "f5070724-87ad-4203-bb1b-b09294ebd5e6",
   "metadata": {
    "tags": []
   },
   "outputs": [
    {
     "data": {
      "text/html": [
       "<div>\n",
       "<style scoped>\n",
       "    .dataframe tbody tr th:only-of-type {\n",
       "        vertical-align: middle;\n",
       "    }\n",
       "\n",
       "    .dataframe tbody tr th {\n",
       "        vertical-align: top;\n",
       "    }\n",
       "\n",
       "    .dataframe thead th {\n",
       "        text-align: right;\n",
       "    }\n",
       "</style>\n",
       "<table border=\"1\" class=\"dataframe\">\n",
       "  <thead>\n",
       "    <tr style=\"text-align: right;\">\n",
       "      <th></th>\n",
       "      <th>col1</th>\n",
       "      <th>col2</th>\n",
       "    </tr>\n",
       "  </thead>\n",
       "  <tbody>\n",
       "    <tr>\n",
       "      <th>0</th>\n",
       "      <td>0</td>\n",
       "      <td>3.1</td>\n",
       "    </tr>\n",
       "    <tr>\n",
       "      <th>1</th>\n",
       "      <td>1</td>\n",
       "      <td>3.2</td>\n",
       "    </tr>\n",
       "    <tr>\n",
       "      <th>2</th>\n",
       "      <td>2</td>\n",
       "      <td>3.3</td>\n",
       "    </tr>\n",
       "  </tbody>\n",
       "</table>\n",
       "</div>"
      ],
      "text/plain": [
       "   col1  col2\n",
       "0     0   3.1\n",
       "1     1   3.2\n",
       "2     2   3.3"
      ]
     },
     "execution_count": 34,
     "metadata": {},
     "output_type": "execute_result"
    }
   ],
   "source": [
    "# define a new column names\n",
    "col_names = { 'col_name_1': 'col1',\n",
    "              'col_name_2': 'col2'\n",
    "            }\n",
    "\n",
    "#reanme using rename\n",
    "df.rename(columns = col_names)"
   ]
  },
  {
   "cell_type": "code",
   "execution_count": 32,
   "id": "996ec09c-607e-42e7-a265-8a58bf3c8862",
   "metadata": {
    "tags": []
   },
   "outputs": [
    {
     "data": {
      "text/html": [
       "<div>\n",
       "<style scoped>\n",
       "    .dataframe tbody tr th:only-of-type {\n",
       "        vertical-align: middle;\n",
       "    }\n",
       "\n",
       "    .dataframe tbody tr th {\n",
       "        vertical-align: top;\n",
       "    }\n",
       "\n",
       "    .dataframe thead th {\n",
       "        text-align: right;\n",
       "    }\n",
       "</style>\n",
       "<table border=\"1\" class=\"dataframe\">\n",
       "  <thead>\n",
       "    <tr style=\"text-align: right;\">\n",
       "      <th></th>\n",
       "      <th>col_name_1</th>\n",
       "      <th>col_name_2</th>\n",
       "    </tr>\n",
       "  </thead>\n",
       "  <tbody>\n",
       "    <tr>\n",
       "      <th>0</th>\n",
       "      <td>0</td>\n",
       "      <td>3.1</td>\n",
       "    </tr>\n",
       "    <tr>\n",
       "      <th>1</th>\n",
       "      <td>1</td>\n",
       "      <td>3.2</td>\n",
       "    </tr>\n",
       "    <tr>\n",
       "      <th>2</th>\n",
       "      <td>2</td>\n",
       "      <td>3.3</td>\n",
       "    </tr>\n",
       "  </tbody>\n",
       "</table>\n",
       "</div>"
      ],
      "text/plain": [
       "   col_name_1  col_name_2\n",
       "0           0         3.1\n",
       "1           1         3.2\n",
       "2           2         3.3"
      ]
     },
     "execution_count": 32,
     "metadata": {},
     "output_type": "execute_result"
    }
   ],
   "source": [
    "# Take a look at our dataframe\n",
    "df"
   ]
  },
  {
   "cell_type": "code",
   "execution_count": null,
   "id": "517a2844-e990-4294-86e3-2b1f5b105aa9",
   "metadata": {},
   "outputs": [],
   "source": [
    "Nothing Changed!\n",
    "`df.rename` doesn't change the column names in place, \n",
    "meaning it doeesn't modify the object itself. Instead, it creates a new object as an output\n",
    "\n",
    "Assign output back to dataframe"
   ]
  },
  {
   "cell_type": "code",
   "execution_count": 33,
   "id": "ea82a2e5-0e60-49cc-9686-ed4e3c051641",
   "metadata": {
    "tags": []
   },
   "outputs": [
    {
     "data": {
      "text/html": [
       "<div>\n",
       "<style scoped>\n",
       "    .dataframe tbody tr th:only-of-type {\n",
       "        vertical-align: middle;\n",
       "    }\n",
       "\n",
       "    .dataframe tbody tr th {\n",
       "        vertical-align: top;\n",
       "    }\n",
       "\n",
       "    .dataframe thead th {\n",
       "        text-align: right;\n",
       "    }\n",
       "</style>\n",
       "<table border=\"1\" class=\"dataframe\">\n",
       "  <thead>\n",
       "    <tr style=\"text-align: right;\">\n",
       "      <th></th>\n",
       "      <th>col1</th>\n",
       "      <th>col2</th>\n",
       "    </tr>\n",
       "  </thead>\n",
       "  <tbody>\n",
       "    <tr>\n",
       "      <th>0</th>\n",
       "      <td>0</td>\n",
       "      <td>3.1</td>\n",
       "    </tr>\n",
       "    <tr>\n",
       "      <th>1</th>\n",
       "      <td>1</td>\n",
       "      <td>3.2</td>\n",
       "    </tr>\n",
       "    <tr>\n",
       "      <th>2</th>\n",
       "      <td>2</td>\n",
       "      <td>3.3</td>\n",
       "    </tr>\n",
       "  </tbody>\n",
       "</table>\n",
       "</div>"
      ],
      "text/plain": [
       "   col1  col2\n",
       "0     0   3.1\n",
       "1     1   3.2\n",
       "2     2   3.3"
      ]
     },
     "execution_count": 33,
     "metadata": {},
     "output_type": "execute_result"
    }
   ],
   "source": [
    "df = df.rename(columns = col_names)\n",
    "df"
   ]
  }
 ],
 "metadata": {
  "kernelspec": {
   "display_name": "Anaconda 3 (Base)",
   "language": "python",
   "name": "base"
  },
  "language_info": {
   "codemirror_mode": {
    "name": "ipython",
    "version": 3
   },
   "file_extension": ".py",
   "mimetype": "text/x-python",
   "name": "python",
   "nbconvert_exporter": "python",
   "pygments_lexer": "ipython3",
   "version": "3.9.13"
  }
 },
 "nbformat": 4,
 "nbformat_minor": 5
}
