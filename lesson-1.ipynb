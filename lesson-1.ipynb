{
 "cells": [
  {
   "cell_type": "markdown",
   "id": "c915c385-a0b9-4c63-99c4-c311cbc555cb",
   "metadata": {
    "tags": []
   },
   "source": [
    "# numpy\n",
    "\n",
    "- one of the core packages for numerical computing in python\n",
    "- many packages are built on topy numpy \n",
    "- numpy has been optimized for processing: faster due to memory access\n",
    "\n"
   ]
  },
  {
   "cell_type": "code",
   "execution_count": null,
   "id": "6aca6c2b-78b0-4cfa-9e06-3c3c21488f35",
   "metadata": {},
   "outputs": [],
   "source": []
  },
  {
   "cell_type": "code",
   "execution_count": 4,
   "id": "fdd67087-7d7b-446b-8fd0-86b30b465682",
   "metadata": {
    "tags": []
   },
   "outputs": [],
   "source": [
    "# import Numpy with standard abbreviation\n",
    "import numpy as np"
   ]
  },
  {
   "cell_type": "markdown",
   "id": "2805a4e8-d5ec-48f1-8f3c-0ff99926678f",
   "metadata": {},
   "source": [
    "# Variables\n",
    "We can think about variables as a name we assign to a particula object in Python. For example"
   ]
  },
  {
   "cell_type": "code",
   "execution_count": 9,
   "id": "1e72acf5-4def-4610-9925-72ef1b5a8eeb",
   "metadata": {
    "tags": []
   },
   "outputs": [
    {
     "name": "stdout",
     "output_type": "stream",
     "text": [
      "[[1 1 2]\n",
      " [3 5 8]]\n"
     ]
    }
   ],
   "source": [
    "# assign a sall array to a variable a\n",
    "a = np.array( [[1,1,2], [3,5,8] ] )\n"
   ]
  },
  {
   "cell_type": "code",
   "execution_count": 10,
   "id": "3ef89085-585d-4650-a63c-b70cd5955597",
   "metadata": {
    "tags": []
   },
   "outputs": [
    {
     "name": "stdout",
     "output_type": "stream",
     "text": [
      "[[1 1 2]\n",
      " [3 5 8]]\n"
     ]
    }
   ],
   "source": [
    "print(a)"
   ]
  },
  {
   "cell_type": "markdown",
   "id": "f2aac079-d61c-4550-9d73-7bde82496c42",
   "metadata": {},
   "source": [
    "## Naming variables\n",
    "In the class we are going to yse 'snake_case' for naming variables.\n",
    "\n",
    "## Variables and objects\n",
    "\n",
    "**objects**: often encountered in Python documentation and tutorials\n",
    "\n",
    "object is  abundle of properties and actions about something specific\n",
    "Example: \n",
    "\n",
    "- object: data frame\n",
    "- properties: number of rows, names of columns, data created\n",
    "- actions: selecting a row, adding a column\n",
    "\n",
    "A variable is a name we give a specific object, and the same object can be referenced by different variables.\n",
    "\n",
    "Ex: \n",
    "\n",
    "- The Sun = object\n",
    "- sol = Spanish word for Sun = variable\n",
    "- soleil = French for Sun = another variable\n",
    "\n",
    "In practice we will use object and variable interchangeably "
   ]
  },
  {
   "cell_type": "markdown",
   "id": "85ca160f-7a41-44d4-8874-93cbe1748ff7",
   "metadata": {
    "tags": []
   },
   "source": [
    "# Types\n",
    "Each object in Python has a type. \n",
    "\n",
    "type = what kind of object it is \n",
    "\n",
    "We can also call the type of the object, the **class** of the object.\n",
    "\n",
    "We can see the type/class of an object using the type fuction"
   ]
  },
  {
   "cell_type": "code",
   "execution_count": 12,
   "id": "7b7d26d5-400a-4133-8b9d-38226d97f461",
   "metadata": {
    "tags": []
   },
   "outputs": [
    {
     "name": "stdout",
     "output_type": "stream",
     "text": [
      "[[1 1 2]\n",
      " [3 5 8]]\n"
     ]
    },
    {
     "data": {
      "text/plain": [
       "numpy.ndarray"
      ]
     },
     "execution_count": 12,
     "metadata": {},
     "output_type": "execute_result"
    }
   ],
   "source": [
    "print(a)\n",
    "type(a)"
   ]
  },
  {
   "cell_type": "markdown",
   "id": "614ed525-37e6-4809-b94c-7cc3a867b097",
   "metadata": {},
   "source": [
    "The 'numpy.ndarray' is the core object.data type in the NumpPy package. We can check the type of an entry in the array by indexing:"
   ]
  },
  {
   "cell_type": "code",
   "execution_count": 17,
   "id": "cd166295-b2da-44ad-b778-d9133da906ff",
   "metadata": {
    "tags": []
   },
   "outputs": [
    {
     "name": "stdout",
     "output_type": "stream",
     "text": [
      "1\n"
     ]
    },
    {
     "data": {
      "text/plain": [
       "numpy.int64"
      ]
     },
     "execution_count": 17,
     "metadata": {},
     "output_type": "execute_result"
    }
   ],
   "source": [
    "print(a[0,0])  ## access the first row and the first column\n",
    "\n",
    "type(a[0,0])  ## type of that number "
   ]
  },
  {
   "cell_type": "code",
   "execution_count": 19,
   "id": "4ca32152-f4d1-498b-889a-bdf6d70c7c6c",
   "metadata": {
    "tags": []
   },
   "outputs": [
    {
     "name": "stdout",
     "output_type": "stream",
     "text": [
      "5\n"
     ]
    }
   ],
   "source": [
    "## access the 5, second row and second column \n",
    "print(a[1,1])"
   ]
  },
  {
   "cell_type": "markdown",
   "id": "d04f9971-186d-4b5b-a975-ddd285601056",
   "metadata": {},
   "source": [
    "# Functions\n",
    "\n",
    "`print` was our example of a Python function! :)\n",
    "\n",
    "A function: \n",
    "- take\n",
    "\n",
    "argument = paramter "
   ]
  },
  {
   "cell_type": "code",
   "execution_count": null,
   "id": "95768157-ea98-4bb6-aeb0-831cd9fe8885",
   "metadata": {},
   "outputs": [],
   "source": [
    "?print"
   ]
  },
  {
   "cell_type": "markdown",
   "id": "9d33371f-bbef-41c9-9ee8-95ec79b8480b",
   "metadata": {},
   "source": [
    "- first line: function showing all of its arguments in paranthesus\n",
    "- then a short description of what the function does\n",
    "- finally, a list of the arguments and a brief explanation of each of them\n",
    "\n",
    "Different types of arguments inside the parenthesis. Roughly speaking, there are two types of arguments:\n",
    "\n",
    "- **non-optional arguments**: arguments you need to specifu for the function to do something\n",
    "- **optional arguments**: argyments that are pre-filled with a default value by the function, but we can ovveride them. Optional arguments appear inside the parenthesis () in the form"
   ]
  },
  {
   "cell_type": "markdown",
   "id": "e403cdd8-8aaa-4043-83cc-c4ae86f9d31f",
   "metadata": {},
   "source": [
    "`optional argument = default_value`"
   ]
  },
  {
   "cell_type": "code",
   "execution_count": null,
   "id": "105ede2a-e193-432c-b31e-eb0cc72276bd",
   "metadata": {},
   "outputs": [],
   "source": [
    "print('changing the default end argument of the print function', end = ':)'"
   ]
  },
  {
   "cell_type": "markdown",
   "id": "55a4f12c-9103-4816-ba6a-53c17a3556eb",
   "metadata": {},
   "source": [
    "# Attributes and Methods\n",
    "An object in Python has attributes and methods.\n",
    "\n",
    "- **attributes**: a property of an object, a piece of information about it.\n",
    "- **method**: a procedure associated with an object, an action where the main ingredient is the object itself, and a function where the main parametere is the object \n",
    "\n",
    "Access a variable's attribute and methods by adding a period '.' at the end of the variables name\n",
    "\n",
    "`variable.variable_method()` or\n",
    "`variable.variable_attribute`\n",
    "\n",
    "Examples:\n",
    "\n",
    "Methods and attributes of Numpy arrays: "
   ]
  },
  {
   "cell_type": "code",
   "execution_count": 1,
   "id": "001182e8-efd5-4177-a3f5-368bb8fc908d",
   "metadata": {
    "tags": []
   },
   "outputs": [],
   "source": [
    "import numpy as np"
   ]
  },
  {
   "cell_type": "code",
   "execution_count": 3,
   "id": "ad1dd883-ab22-4c0a-a635-fd2ed8ed85d5",
   "metadata": {
    "tags": []
   },
   "outputs": [
    {
     "data": {
      "text/plain": [
       "array([[1, 2, 3],\n",
       "       [4, 5, 6],\n",
       "       [7, 8, 9]])"
      ]
     },
     "execution_count": 3,
     "metadata": {},
     "output_type": "execute_result"
    }
   ],
   "source": [
    "# define a 3x3 array\n",
    "var = np.array([ [1,2,3], [4,5,6], [7,8,9] ])\n",
    "var"
   ]
  },
  {
   "cell_type": "code",
   "execution_count": 4,
   "id": "baa27092-1bee-47a7-972c-3b4e4d3040aa",
   "metadata": {
    "tags": []
   },
   "outputs": [
    {
     "data": {
      "text/plain": [
       "(3, 3)"
      ]
     },
     "execution_count": 4,
     "metadata": {},
     "output_type": "execute_result"
    }
   ],
   "source": [
    "# shape : attribute telling us the shape of the elements in each dimension of the array\n",
    "\n",
    "var.shape"
   ]
  },
  {
   "cell_type": "code",
   "execution_count": 5,
   "id": "649e40d7-d356-4c9b-82c7-cfbee7268b23",
   "metadata": {
    "tags": []
   },
   "outputs": [
    {
     "data": {
      "text/plain": [
       "tuple"
      ]
     },
     "execution_count": 5,
     "metadata": {},
     "output_type": "execute_result"
    }
   ],
   "source": [
    "## tuples are imutable and cannot be changed\n",
    "type(var.shape)"
   ]
  },
  {
   "cell_type": "code",
   "execution_count": 6,
   "id": "8aa47e89-ca59-428f-a278-1d6e049c2672",
   "metadata": {
    "tags": []
   },
   "outputs": [
    {
     "data": {
      "text/plain": [
       "2"
      ]
     },
     "execution_count": 6,
     "metadata": {},
     "output_type": "execute_result"
    }
   ],
   "source": [
    "# ndim is an attribute holding the number of array dimensions\n",
    "var.ndim"
   ]
  },
  {
   "cell_type": "code",
   "execution_count": 7,
   "id": "28b3e292-7399-4a03-84f8-30eebd63cd15",
   "metadata": {
    "tags": []
   },
   "outputs": [
    {
     "data": {
      "text/plain": [
       "int"
      ]
     },
     "execution_count": 7,
     "metadata": {},
     "output_type": "execute_result"
    }
   ],
   "source": [
    "type(var.ndim)"
   ]
  },
  {
   "cell_type": "markdown",
   "id": "30686984-6aca-4327-9db2-26cb84d82642",
   "metadata": {},
   "source": [
    "Notice attributes can have many different data types.\n",
    "\n",
    "Examples of methods:"
   ]
  },
  {
   "cell_type": "code",
   "execution_count": 9,
   "id": "67a6d415-9870-4b02-8be9-3321d577ef1b",
   "metadata": {
    "tags": []
   },
   "outputs": [
    {
     "data": {
      "text/plain": [
       "1"
      ]
     },
     "execution_count": 9,
     "metadata": {},
     "output_type": "execute_result"
    }
   ],
   "source": [
    "# min method for array\n",
    "# return the minimum value in the array \n",
    "var.min()\n"
   ]
  },
  {
   "cell_type": "code",
   "execution_count": 10,
   "id": "9b064011-d20f-44e5-875a-8d4c49f1e29a",
   "metadata": {
    "tags": []
   },
   "outputs": [
    {
     "data": {
      "text/plain": [
       "builtin_function_or_method"
      ]
     },
     "execution_count": 10,
     "metadata": {},
     "output_type": "execute_result"
    }
   ],
   "source": [
    "type(var.min)"
   ]
  },
  {
   "cell_type": "markdown",
   "id": "64fd791a-36c3-4f01-b839-1a26a4508eff",
   "metadata": {},
   "source": [
    "# R & Python\n",
    "R:\n",
    "- doesn't use methods within an object\n",
    "- functions in R are extrinsic to (outside) the obects they are acting on\n",
    "\n",
    "Example: recreate getting the min value in an array\n",
    "\n",
    "In R there would be two separate items: the variable `var`\n",
    "and a *separate* function `min` that gets `var` as a parameter\n",
    "\n",
    "```\n",
    "# this is R code\n",
    "var <- array(c(1,4,7,2,5,8,3,6,9), dim = c(3,3))\n",
    "min(var)\n",
    "\n",
    "Using the pipe operator >%> in R's tidyverse is closer to the `.` in Python:\n",
    "\n",
    "\n",
    "var <- array(c(1,4,7,2,5,8,3,6,9), dim = c(3,3))\n",
    "var >%> min()\n",
    "\n",
    "```\n",
    "What is happening?\n",
    "The pipe `>%>` is passing `var` to the `min()` as it first argument. This is essentially waht the `.` in Python:\n",
    "```\n",
    "var = np.array([ [1,2,3], [4,5,6], [7,8,9] ])\n",
    "var.min()\n"
   ]
  }
 ],
 "metadata": {
  "kernelspec": {
   "display_name": "Anaconda 3 (Base)",
   "language": "python",
   "name": "base"
  },
  "language_info": {
   "codemirror_mode": {
    "name": "ipython",
    "version": 3
   },
   "file_extension": ".py",
   "mimetype": "text/x-python",
   "name": "python",
   "nbconvert_exporter": "python",
   "pygments_lexer": "ipython3",
   "version": "3.9.13"
  }
 },
 "nbformat": 4,
 "nbformat_minor": 5
}
